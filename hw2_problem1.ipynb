{
 "cells": [
  {
   "cell_type": "code",
   "execution_count": 13,
   "metadata": {
    "collapsed": false
   },
   "outputs": [],
   "source": [
    "import pandas as pd\n",
    "import numpy as np\n",
    "import matplotlib.pyplot as plt\n",
    "\n",
    "%matplotlib inline"
   ]
  },
  {
   "cell_type": "code",
   "execution_count": 2,
   "metadata": {
    "collapsed": false
   },
   "outputs": [],
   "source": [
    "df = pd.read_csv(\"dataset.csv\") #Read in dataset\n",
    "data = df.values\n",
    "x = data[:,0:3]\n",
    "y = data[:,3]"
   ]
  },
  {
   "cell_type": "code",
   "execution_count": 3,
   "metadata": {
    "collapsed": false
   },
   "outputs": [],
   "source": [
    "theta = np.array([0.05,-3,2.5]) #Define theta and theta_0\n",
    "theta_0 = np.array(0.3)"
   ]
  },
  {
   "cell_type": "code",
   "execution_count": 4,
   "metadata": {
    "collapsed": true
   },
   "outputs": [],
   "source": [
    "# Sigmoid Function\n",
    "def sigmoid(z):\n",
    "    sig = 1/(1+np.exp(-z))\n",
    "    return sig"
   ]
  },
  {
   "cell_type": "code",
   "execution_count": 5,
   "metadata": {
    "collapsed": false
   },
   "outputs": [],
   "source": [
    "g = np.dot(x,theta) + theta_0\n",
    "f = sigmoid(np.dot(x,theta) + theta_0)"
   ]
  },
  {
   "cell_type": "code",
   "execution_count": 6,
   "metadata": {
    "collapsed": false
   },
   "outputs": [
    {
     "name": "stdout",
     "output_type": "stream",
     "text": [
      "[-1.7   0.7   3.55  1.1   0.65 -1.65 -1.55  0.55  3.65 -1.85]\n",
      "[ 0.15446527  0.66818777  0.97207743  0.75026011  0.65701046  0.16110895\n",
      "  0.17508627  0.63413559  0.9746673   0.1358729 ]\n"
     ]
    }
   ],
   "source": [
    "print(g)\n",
    "print(f)"
   ]
  },
  {
   "cell_type": "code",
   "execution_count": 7,
   "metadata": {
    "collapsed": false
   },
   "outputs": [
    {
     "name": "stdout",
     "output_type": "stream",
     "text": [
      "[0 1 1 1 1 0 0 0 1 0]\n",
      "[0 1 1 1 1 0 0 0 1 0]\n",
      "[0 1 1 1 1 0 0 0 1 0]\n",
      " \n",
      "Classification error for g(x) using treshold=0.600000 is 0.000000\n",
      "Classification error for f(x) using treshold=0.650000 is 0.000000\n"
     ]
    }
   ],
   "source": [
    "thresh_g = 0.6\n",
    "thresh_f = 0.65\n",
    "\n",
    "y_class = y\n",
    "g_class = (g>thresh_g)*1\n",
    "f_class = (f>thresh_f)*1\n",
    "\n",
    "print(y_class)\n",
    "print(g_class)\n",
    "print(f_class)\n",
    "print(\" \")\n",
    "error_g = np.sum(np.abs(g_class - y_class))/len(y_class)\n",
    "print(\"Classification error for g(x) using treshold=%f is %f\" % (thresh_g,error_g))\n",
    "\n",
    "error_f = np.sum(np.abs(f_class - y_class))/len(y_class)\n",
    "print(\"Classification error for f(x) using treshold=%f is %f\" % (thresh_f,error_f))"
   ]
  },
  {
   "cell_type": "code",
   "execution_count": 8,
   "metadata": {
    "collapsed": false
   },
   "outputs": [],
   "source": [
    "def TPR(y_actual,y_pred):\n",
    "    tp_rate = np.sum((y_actual==1) & (y_pred==1))/np.sum(y_actual==1)\n",
    "    return(tp_rate)\n",
    "    \n",
    "def FPR(y_actual,y_pred):\n",
    "    fp_rate = np.sum((y_actual==0) & (y_pred==1))/np.sum(y_actual==0)\n",
    "    return(fp_rate)"
   ]
  },
  {
   "cell_type": "code",
   "execution_count": 9,
   "metadata": {
    "collapsed": true
   },
   "outputs": [],
   "source": [
    "thresh_vals = np.linspace(0,1,50)"
   ]
  },
  {
   "cell_type": "code",
   "execution_count": 10,
   "metadata": {
    "collapsed": false
   },
   "outputs": [],
   "source": [
    "x_data = np.zeros(len(thresh_vals))\n",
    "y_data = np.zeros(len(thresh_vals))\n",
    "ind = 0\n",
    "for t in thresh_vals:\n",
    "    ind = ind+1\n",
    "    f_class = (f>t)*1\n",
    "    tp_rate = TPR(y_class,f_class)\n",
    "    fp_rate = FPR(y_class,f_class)\n",
    "    y_data[ind-1] = tp_rate\n",
    "    x_data[ind-1] = fp_rate\n",
    "    "
   ]
  },
  {
   "cell_type": "code",
   "execution_count": 25,
   "metadata": {
    "collapsed": false
   },
   "outputs": [
    {
     "data": {
      "text/plain": [
       "(-0.1, 1.1)"
      ]
     },
     "execution_count": 25,
     "metadata": {},
     "output_type": "execute_result"
    },
    {
     "data": {
      "image/png": "[encoded data removed]",
      "text/plain": [
       "<matplotlib.figure.Figure at 0x118afb9b0>"
      ]
     },
     "metadata": {},
     "output_type": "display_data"
    }
   ],
   "source": [
    "plt.plot(x_data, y_data,\".\")\n",
    "plt.ylim(0, 1.1)\n",
    "plt.xlim(-0.1, 1.1)"
   ]
  },
  {
   "cell_type": "code",
   "execution_count": null,
   "metadata": {
    "collapsed": true
   },
   "outputs": [],
   "source": []
  }
 ],
 "metadata": {
  "anaconda-cloud": {},
  "kernelspec": {
   "display_name": "Python [Root]",
   "language": "python",
   "name": "Python [Root]"
  },
  "language_info": {
   "codemirror_mode": {
    "name": "ipython",
    "version": 3
   },
   "file_extension": ".py",
   "mimetype": "text/x-python",
   "name": "python",
   "nbconvert_exporter": "python",
   "pygments_lexer": "ipython3",
   "version": "3.5.2"
  }
 },
 "nbformat": 4,
 "nbformat_minor": 0
}
